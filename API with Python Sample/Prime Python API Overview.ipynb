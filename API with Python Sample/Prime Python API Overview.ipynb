{
  "cells": [
    {
      "cell_type": "markdown",
      "id": "1cd610e1-ec42-4946-8292-696141d5ad9d",
      "metadata": {
        "id": "1cd610e1-ec42-4946-8292-696141d5ad9d"
      },
      "source": [
        "# Prime Python API Overview"
      ]
    },
    {
      "cell_type": "markdown",
      "id": "290f0ec7-5625-4def-9cf1-7b6fd3b0234a",
      "metadata": {
        "id": "290f0ec7-5625-4def-9cf1-7b6fd3b0234a"
      },
      "source": [
        "## Outline\n",
        "\n",
        "1. Configuring credentials\n",
        "2. Retrieving objects\n",
        "   - Loss Sets\n",
        "   - Layers\n",
        "   - Portfolios\n",
        "   - Event Catalogs\n",
        "   - Analysis Profiles\n",
        "3. Uploading data\n",
        "   - Loss Sets\n",
        "4. Creating new objects\n",
        "   - Layers\n",
        "   - Portfolios\n",
        "5. Modifying objects\n",
        "   - Modify a layer\n",
        "   - Modify a portfolio\n",
        "6. Creating views\n",
        "   - Layer Views\n",
        "   - Portfolio Views\n",
        "7. Querying metrics\n",
        "   - Layer metrics\n",
        "   - Portfolio metrics\n",
        "8. Performance optimization\n",
        "9. Advanced metrics\n",
        "   - Co-Metrics\n",
        "   - Window Metrics"
      ]
    },
    {
      "cell_type": "markdown",
      "id": "06117269-8fc3-4afe-bd3a-09cec55b629c",
      "metadata": {
        "tags": [],
        "id": "06117269-8fc3-4afe-bd3a-09cec55b629c"
      },
      "source": [
        "## Configuring Credentials"
      ]
    },
    {
      "cell_type": "code",
      "execution_count": null,
      "id": "42d22dea-fadf-4b27-b8af-28ef5805adc2",
      "metadata": {
        "id": "42d22dea-fadf-4b27-b8af-28ef5805adc2"
      },
      "outputs": [],
      "source": [
        "import analyzere\n",
        "from getpass import getpass"
      ]
    },
    {
      "cell_type": "code",
      "execution_count": null,
      "id": "a1d5d733-bc2f-4e00-8847-769b3233367f",
      "metadata": {
        "id": "a1d5d733-bc2f-4e00-8847-769b3233367f"
      },
      "outputs": [],
      "source": [
        "analyzere.base_url = \"[Enter your server name here]\""
      ]
    },
    {
      "cell_type": "code",
      "execution_count": null,
      "id": "cbea4f42-096e-46e5-b233-c6064afbb00c",
      "metadata": {
        "id": "cbea4f42-096e-46e5-b233-c6064afbb00c"
      },
      "outputs": [],
      "source": [
        "analyzere.username = \"[Enter your user name here]\""
      ]
    },
    {
      "cell_type": "code",
      "execution_count": null,
      "id": "9d504b7a-eb7a-404b-81cd-3523c33f88a0",
      "metadata": {
        "id": "9d504b7a-eb7a-404b-81cd-3523c33f88a0"
      },
      "outputs": [],
      "source": [
        "analyzere.password = getpass()"
      ]
    },
    {
      "cell_type": "markdown",
      "id": "655b94ce-8645-4a63-94b9-ea4f2e236638",
      "metadata": {
        "tags": [],
        "id": "655b94ce-8645-4a63-94b9-ea4f2e236638"
      },
      "source": [
        "## Retrieving objects"
      ]
    },
    {
      "cell_type": "markdown",
      "id": "93c9f546-bd53-48a6-914f-30e56af6f6ee",
      "metadata": {
        "tags": [],
        "id": "93c9f546-bd53-48a6-914f-30e56af6f6ee"
      },
      "source": [
        "### Loss Sets"
      ]
    },
    {
      "cell_type": "code",
      "execution_count": null,
      "id": "5c056107-506b-4690-b16a-013659df62ca",
      "metadata": {
        "id": "5c056107-506b-4690-b16a-013659df62ca"
      },
      "outputs": [],
      "source": [
        "from analyzere import LossSet"
      ]
    },
    {
      "cell_type": "markdown",
      "id": "1bada4de-5cbd-4aa8-a13b-df71a97db25d",
      "metadata": {
        "tags": [],
        "id": "1bada4de-5cbd-4aa8-a13b-df71a97db25d"
      },
      "source": [
        "#### Listing loss sets"
      ]
    },
    {
      "cell_type": "code",
      "execution_count": null,
      "id": "f565a4ba-f9fd-4835-9704-44bb93c692b4",
      "metadata": {
        "id": "f565a4ba-f9fd-4835-9704-44bb93c692b4"
      },
      "outputs": [],
      "source": [
        "ls_from_list = LossSet.list()"
      ]
    },
    {
      "cell_type": "code",
      "execution_count": null,
      "id": "59ff0285-470f-438a-ab62-2754ceb713c4",
      "metadata": {
        "id": "59ff0285-470f-438a-ab62-2754ceb713c4"
      },
      "outputs": [],
      "source": [
        "ls_from_list[0]"
      ]
    },
    {
      "cell_type": "markdown",
      "id": "6778d785-5f00-4211-a7de-e5178661aaee",
      "metadata": {
        "tags": [],
        "id": "6778d785-5f00-4211-a7de-e5178661aaee"
      },
      "source": [
        "#### Retrive a single loss set"
      ]
    },
    {
      "cell_type": "code",
      "execution_count": null,
      "id": "b8c60ebe-e958-47ac-815a-9f9768f4251c",
      "metadata": {
        "id": "b8c60ebe-e958-47ac-815a-9f9768f4251c"
      },
      "outputs": [],
      "source": [
        "ls_from_id = LossSet.retrieve(ls_from_list[0].id)"
      ]
    },
    {
      "cell_type": "code",
      "execution_count": null,
      "id": "74a8e790-b5f0-4223-9a24-4954f5930d70",
      "metadata": {
        "id": "74a8e790-b5f0-4223-9a24-4954f5930d70"
      },
      "outputs": [],
      "source": [
        "ls_from_id"
      ]
    },
    {
      "cell_type": "markdown",
      "id": "d5d2fa6a-839f-4986-937b-d46197fb4ee9",
      "metadata": {
        "tags": [],
        "id": "d5d2fa6a-839f-4986-937b-d46197fb4ee9"
      },
      "source": [
        "#### Search loss sets"
      ]
    },
    {
      "cell_type": "code",
      "execution_count": null,
      "id": "1e110a6d-47ae-496d-b968-f92c394ee826",
      "metadata": {
        "id": "1e110a6d-47ae-496d-b968-f92c394ee826"
      },
      "outputs": [],
      "source": [
        "ls_from_search = LossSet.list(search=\"[Enter loss set search term]\")"
      ]
    },
    {
      "cell_type": "code",
      "execution_count": null,
      "id": "c17d6399-1d73-420d-a4d5-4db6e51af7ed",
      "metadata": {
        "id": "c17d6399-1d73-420d-a4d5-4db6e51af7ed"
      },
      "outputs": [],
      "source": [
        "[ (ls.id, ls.description) for ls in ls_from_search]"
      ]
    },
    {
      "cell_type": "markdown",
      "id": "5d15c884-eac4-435a-a848-5339b0b5bcc3",
      "metadata": {
        "tags": [],
        "id": "5d15c884-eac4-435a-a848-5339b0b5bcc3"
      },
      "source": [
        "### Layers"
      ]
    },
    {
      "cell_type": "code",
      "execution_count": null,
      "id": "e3a7af97-2942-4f04-b8f8-c945158406e6",
      "metadata": {
        "id": "e3a7af97-2942-4f04-b8f8-c945158406e6"
      },
      "outputs": [],
      "source": [
        "from analyzere import Layer"
      ]
    },
    {
      "cell_type": "markdown",
      "id": "736d0631-82b8-49a1-b160-7a6dcc1212c5",
      "metadata": {
        "tags": [],
        "id": "736d0631-82b8-49a1-b160-7a6dcc1212c5"
      },
      "source": [
        "#### Listing layers"
      ]
    },
    {
      "cell_type": "code",
      "execution_count": null,
      "id": "e8754504-8344-4ca3-a45e-80f2ff2bafb3",
      "metadata": {
        "id": "e8754504-8344-4ca3-a45e-80f2ff2bafb3"
      },
      "outputs": [],
      "source": [
        "l_from_list = Layer.list()"
      ]
    },
    {
      "cell_type": "code",
      "execution_count": null,
      "id": "557f69fa-f774-4295-b6d9-43fe7f397335",
      "metadata": {
        "id": "557f69fa-f774-4295-b6d9-43fe7f397335"
      },
      "outputs": [],
      "source": [
        "[ (l.id, l.description) for l in l_from_list[:10]]"
      ]
    },
    {
      "cell_type": "markdown",
      "id": "68b8f4ed-d678-4d19-a109-98938443b8ba",
      "metadata": {
        "tags": [],
        "id": "68b8f4ed-d678-4d19-a109-98938443b8ba"
      },
      "source": [
        "#### Retrieve a single layer"
      ]
    },
    {
      "cell_type": "code",
      "execution_count": null,
      "id": "749f6614-0731-4d14-ba2e-9e9b5f8c1440",
      "metadata": {
        "id": "749f6614-0731-4d14-ba2e-9e9b5f8c1440"
      },
      "outputs": [],
      "source": [
        "l_from_id = Layer.retrieve(l_from_list[0].id)"
      ]
    },
    {
      "cell_type": "code",
      "execution_count": null,
      "id": "ed48f47f-f1a5-4566-8a5b-6637c70159ce",
      "metadata": {
        "id": "ed48f47f-f1a5-4566-8a5b-6637c70159ce"
      },
      "outputs": [],
      "source": [
        "l_from_id"
      ]
    },
    {
      "cell_type": "markdown",
      "id": "8991f71c-9d1e-40f3-ab9f-a1dd95034d07",
      "metadata": {
        "tags": [],
        "id": "8991f71c-9d1e-40f3-ab9f-a1dd95034d07"
      },
      "source": [
        "#### Search layers"
      ]
    },
    {
      "cell_type": "code",
      "execution_count": null,
      "id": "6d3c8cf7-7195-4e83-b0f6-87b3b4556594",
      "metadata": {
        "id": "6d3c8cf7-7195-4e83-b0f6-87b3b4556594"
      },
      "outputs": [],
      "source": [
        "l_from_search = Layer.list(search=\"[Enter search term]\")"
      ]
    },
    {
      "cell_type": "code",
      "execution_count": null,
      "id": "0ae50be1-29da-43e8-a776-dee303461a62",
      "metadata": {
        "id": "0ae50be1-29da-43e8-a776-dee303461a62"
      },
      "outputs": [],
      "source": [
        "[ (l.id, l.description, l.meta_data[\"[Enter meta data field]\"]) for l in l_from_search]"
      ]
    },
    {
      "cell_type": "markdown",
      "id": "e27d1847-bab1-4c2e-930a-83de8e1f6644",
      "metadata": {
        "tags": [],
        "id": "e27d1847-bab1-4c2e-930a-83de8e1f6644"
      },
      "source": [
        "#### Search by metadata fields"
      ]
    },
    {
      "cell_type": "markdown",
      "id": "2ab86735-15b1-45bf-9692-f1eb3f7dc578",
      "metadata": {
        "tags": [],
        "id": "2ab86735-15b1-45bf-9692-f1eb3f7dc578"
      },
      "source": [
        "##### Search by Underwriter"
      ]
    },
    {
      "cell_type": "code",
      "execution_count": null,
      "id": "625f58fc-7e57-4994-b81b-4079c75fe8d8",
      "metadata": {
        "id": "625f58fc-7e57-4994-b81b-4079c75fe8d8"
      },
      "outputs": [],
      "source": [
        "l_from_metadata = Layer.list(metaquery='meta_data[\"underwriter\"]=\"Susan Murphy\"')"
      ]
    },
    {
      "cell_type": "code",
      "execution_count": null,
      "id": "63c31c32-df3d-42d8-b163-7f62bc6c6bcf",
      "metadata": {
        "id": "63c31c32-df3d-42d8-b163-7f62bc6c6bcf"
      },
      "outputs": [],
      "source": [
        "l_from_metadata.meta.total_count"
      ]
    },
    {
      "cell_type": "markdown",
      "id": "bad85369-ef2e-4fe7-aa31-f486c38a2a1b",
      "metadata": {
        "tags": [],
        "id": "bad85369-ef2e-4fe7-aa31-f486c38a2a1b"
      },
      "source": [
        "##### Search by Program ID"
      ]
    },
    {
      "cell_type": "code",
      "execution_count": null,
      "id": "e8660bf1-59bf-4844-92c0-69648bcfbccf",
      "metadata": {
        "id": "e8660bf1-59bf-4844-92c0-69648bcfbccf"
      },
      "outputs": [],
      "source": [
        "l_from_program_metadata = Layer.list(metaquery='meta_data[\"program_id\"]=\"1\"')"
      ]
    },
    {
      "cell_type": "code",
      "execution_count": null,
      "id": "09888556-aa5d-4ad6-b210-f3c4874df5f5",
      "metadata": {
        "id": "09888556-aa5d-4ad6-b210-f3c4874df5f5"
      },
      "outputs": [],
      "source": [
        "l_from_program_metadata.meta.total_count"
      ]
    },
    {
      "cell_type": "markdown",
      "id": "023a0759-667a-4991-a16f-d17e0dfa016f",
      "metadata": {
        "tags": [],
        "id": "023a0759-667a-4991-a16f-d17e0dfa016f"
      },
      "source": [
        "##### Limit the fields returned"
      ]
    },
    {
      "cell_type": "code",
      "execution_count": null,
      "id": "add4be92-2e5b-468a-b016-58dcc6de984a",
      "metadata": {
        "id": "add4be92-2e5b-468a-b016-58dcc6de984a"
      },
      "outputs": [],
      "source": [
        "l_limited_fields = Layer.list(fields=\"id,description\")"
      ]
    },
    {
      "cell_type": "code",
      "execution_count": null,
      "id": "595cf312-9d58-4997-9d4c-6ed69c61092a",
      "metadata": {
        "id": "595cf312-9d58-4997-9d4c-6ed69c61092a"
      },
      "outputs": [],
      "source": [
        "l_limited_fields[0]"
      ]
    },
    {
      "cell_type": "markdown",
      "id": "65fb6655-4060-44c7-9e44-3390bfd6d416",
      "metadata": {
        "tags": [],
        "id": "65fb6655-4060-44c7-9e44-3390bfd6d416"
      },
      "source": [
        "##### Limit the number of results returned"
      ]
    },
    {
      "cell_type": "code",
      "execution_count": null,
      "id": "b08bbcbc-4f97-4c05-a518-746724192391",
      "metadata": {
        "id": "b08bbcbc-4f97-4c05-a518-746724192391"
      },
      "outputs": [],
      "source": [
        "l_limited_responses = Layer.list(limit=10)"
      ]
    },
    {
      "cell_type": "code",
      "execution_count": null,
      "id": "57b4704f-ea12-4d45-8b66-e5a9e7ffc032",
      "metadata": {
        "id": "57b4704f-ea12-4d45-8b66-e5a9e7ffc032"
      },
      "outputs": [],
      "source": [
        "len(l_limited_responses)"
      ]
    },
    {
      "cell_type": "code",
      "execution_count": null,
      "id": "95620fe5-5b90-4ea2-b72c-b4b63a9ea45c",
      "metadata": {
        "id": "95620fe5-5b90-4ea2-b72c-b4b63a9ea45c"
      },
      "outputs": [],
      "source": [
        "l_limited_responses.meta.total_count"
      ]
    },
    {
      "cell_type": "markdown",
      "id": "2041d974-c928-46bf-aa23-f8f5468ef18e",
      "metadata": {
        "tags": [],
        "id": "2041d974-c928-46bf-aa23-f8f5468ef18e"
      },
      "source": [
        "##### Skip a number of results returned"
      ]
    },
    {
      "cell_type": "code",
      "execution_count": null,
      "id": "ff61fb7f-667c-4ba2-b953-148be40a560c",
      "metadata": {
        "id": "ff61fb7f-667c-4ba2-b953-148be40a560c"
      },
      "outputs": [],
      "source": [
        "l_offset = Layer.list(offset=10, limit=10)"
      ]
    },
    {
      "cell_type": "code",
      "execution_count": null,
      "id": "1eee7bcb-a568-442c-a38b-a9e840a06b42",
      "metadata": {
        "id": "1eee7bcb-a568-442c-a38b-a9e840a06b42"
      },
      "outputs": [],
      "source": [
        "len(l_offset)"
      ]
    },
    {
      "cell_type": "code",
      "execution_count": null,
      "id": "f2cfe455-13ab-4f8c-90c1-d39c0bcfe322",
      "metadata": {
        "id": "f2cfe455-13ab-4f8c-90c1-d39c0bcfe322"
      },
      "outputs": [],
      "source": [
        "l_offset.meta.total_count"
      ]
    },
    {
      "cell_type": "markdown",
      "id": "3b0eedfa-3c77-4a2c-8bed-05bda3f9de38",
      "metadata": {
        "tags": [],
        "id": "3b0eedfa-3c77-4a2c-8bed-05bda3f9de38"
      },
      "source": [
        "##### Sort responses"
      ]
    },
    {
      "cell_type": "markdown",
      "id": "2aaf5b11-5252-48dc-99f0-89a20b1b1349",
      "metadata": {
        "id": "2aaf5b11-5252-48dc-99f0-89a20b1b1349"
      },
      "source": [
        "Order responses by descending creation date/time."
      ]
    },
    {
      "cell_type": "code",
      "execution_count": null,
      "id": "f5ce2cc1-6fc4-4539-a5ac-cb56778aedd8",
      "metadata": {
        "id": "f5ce2cc1-6fc4-4539-a5ac-cb56778aedd8"
      },
      "outputs": [],
      "source": [
        "l_created_desc = Layer.list(ordering=\"-created\")"
      ]
    },
    {
      "cell_type": "markdown",
      "id": "975bdf6c-3860-45c3-9efd-101e895de2a9",
      "metadata": {
        "id": "975bdf6c-3860-45c3-9efd-101e895de2a9"
      },
      "source": [
        "Order responses by ascending modification date/time."
      ]
    },
    {
      "cell_type": "code",
      "execution_count": null,
      "id": "71efdb3b-4098-486b-a021-bcbf5a8ec25f",
      "metadata": {
        "id": "71efdb3b-4098-486b-a021-bcbf5a8ec25f"
      },
      "outputs": [],
      "source": [
        "l_modified_asc = Layer.list(ordering=\"modified\")"
      ]
    },
    {
      "cell_type": "markdown",
      "id": "9cad7763-663e-4e11-8693-f9419929f8c3",
      "metadata": {
        "tags": [],
        "id": "9cad7763-663e-4e11-8693-f9419929f8c3"
      },
      "source": [
        "### Portfolios"
      ]
    },
    {
      "cell_type": "code",
      "execution_count": null,
      "id": "3b7ec34d-3d00-449f-bbed-460e9fa7bd72",
      "metadata": {
        "id": "3b7ec34d-3d00-449f-bbed-460e9fa7bd72"
      },
      "outputs": [],
      "source": [
        "from analyzere import Portfolio"
      ]
    },
    {
      "cell_type": "markdown",
      "id": "b4f18c3f-c6cd-49bc-987a-cce406953971",
      "metadata": {
        "tags": [],
        "id": "b4f18c3f-c6cd-49bc-987a-cce406953971"
      },
      "source": [
        "#### List portfolios"
      ]
    },
    {
      "cell_type": "code",
      "execution_count": null,
      "id": "6c177815-2a33-4b0c-ab6e-adba258a769f",
      "metadata": {
        "id": "6c177815-2a33-4b0c-ab6e-adba258a769f"
      },
      "outputs": [],
      "source": [
        "portfolios = Portfolio.list()"
      ]
    },
    {
      "cell_type": "code",
      "execution_count": null,
      "id": "6ea7f555-a720-462a-8580-8a8c2962f40e",
      "metadata": {
        "id": "6ea7f555-a720-462a-8580-8a8c2962f40e"
      },
      "outputs": [],
      "source": [
        "portfolios.meta.total_count"
      ]
    },
    {
      "cell_type": "markdown",
      "id": "5d11dc78-fdba-48a5-ad8b-8c504bd17b8e",
      "metadata": {
        "tags": [],
        "id": "5d11dc78-fdba-48a5-ad8b-8c504bd17b8e"
      },
      "source": [
        "#### Retrieve single portfolio"
      ]
    },
    {
      "cell_type": "code",
      "execution_count": null,
      "id": "043996b9-b8c9-4498-8bcd-4a346a75364d",
      "metadata": {
        "id": "043996b9-b8c9-4498-8bcd-4a346a75364d"
      },
      "outputs": [],
      "source": [
        "portfolio = Portfolio.retrieve(portfolios[0].id)"
      ]
    },
    {
      "cell_type": "code",
      "execution_count": null,
      "id": "02638c97-65a2-457b-b197-37dc0344c880",
      "metadata": {
        "id": "02638c97-65a2-457b-b197-37dc0344c880"
      },
      "outputs": [],
      "source": [
        "portfolio"
      ]
    },
    {
      "cell_type": "markdown",
      "id": "ba33d465-06e2-4c49-be1d-5d76bb4ef0db",
      "metadata": {
        "tags": [],
        "id": "ba33d465-06e2-4c49-be1d-5d76bb4ef0db"
      },
      "source": [
        "### Event Catalog"
      ]
    },
    {
      "cell_type": "code",
      "execution_count": null,
      "id": "e8e3400d-6899-497a-9168-f3ecf18f7521",
      "metadata": {
        "id": "e8e3400d-6899-497a-9168-f3ecf18f7521"
      },
      "outputs": [],
      "source": [
        "from analyzere import EventCatalog"
      ]
    },
    {
      "cell_type": "markdown",
      "id": "b5a3f6d3-db43-45ba-9cd0-927869fb83b0",
      "metadata": {
        "tags": [],
        "id": "b5a3f6d3-db43-45ba-9cd0-927869fb83b0"
      },
      "source": [
        "#### List event catalogs"
      ]
    },
    {
      "cell_type": "code",
      "execution_count": null,
      "id": "384cc6ae-fb8c-4065-9afd-f1cdd783253e",
      "metadata": {
        "id": "384cc6ae-fb8c-4065-9afd-f1cdd783253e"
      },
      "outputs": [],
      "source": [
        "catalogs = EventCatalog.list()"
      ]
    },
    {
      "cell_type": "code",
      "execution_count": null,
      "id": "6cac6e98-e7ac-4811-823c-bc73f40e2cdf",
      "metadata": {
        "id": "6cac6e98-e7ac-4811-823c-bc73f40e2cdf"
      },
      "outputs": [],
      "source": [
        "catalogs.meta.total_count"
      ]
    },
    {
      "cell_type": "markdown",
      "id": "a9b9551a-7a94-46c4-b20e-aafc7571ce8f",
      "metadata": {
        "tags": [],
        "id": "a9b9551a-7a94-46c4-b20e-aafc7571ce8f"
      },
      "source": [
        "#### Retrieve single event catalog"
      ]
    },
    {
      "cell_type": "code",
      "execution_count": null,
      "id": "9a36d8c0-1dfa-4429-8c23-6df0773e82f3",
      "metadata": {
        "id": "9a36d8c0-1dfa-4429-8c23-6df0773e82f3"
      },
      "outputs": [],
      "source": [
        "catalog = EventCatalog.retrieve(catalogs[0].id)"
      ]
    },
    {
      "cell_type": "code",
      "execution_count": null,
      "id": "fe0c749f-9323-40b2-83ee-a579754e7374",
      "metadata": {
        "id": "fe0c749f-9323-40b2-83ee-a579754e7374"
      },
      "outputs": [],
      "source": [
        "catalog"
      ]
    },
    {
      "cell_type": "markdown",
      "id": "377ad7d0-796f-4608-84c2-9a0bace0324c",
      "metadata": {
        "tags": [],
        "id": "377ad7d0-796f-4608-84c2-9a0bace0324c"
      },
      "source": [
        "### Analysis Profile"
      ]
    },
    {
      "cell_type": "code",
      "execution_count": null,
      "id": "8a07f0d8-e9b9-481a-967d-f353ba66c632",
      "metadata": {
        "id": "8a07f0d8-e9b9-481a-967d-f353ba66c632"
      },
      "outputs": [],
      "source": [
        "from analyzere import AnalysisProfile"
      ]
    },
    {
      "cell_type": "markdown",
      "id": "756d0e0e-2d8a-4d47-8e60-7e4cdca03745",
      "metadata": {
        "tags": [],
        "id": "756d0e0e-2d8a-4d47-8e60-7e4cdca03745"
      },
      "source": [
        "#### List analysis profiles"
      ]
    },
    {
      "cell_type": "code",
      "execution_count": null,
      "id": "6ea0bcfc-c500-4eb1-8b94-858debe7a99a",
      "metadata": {
        "id": "6ea0bcfc-c500-4eb1-8b94-858debe7a99a"
      },
      "outputs": [],
      "source": [
        "analysis_profiles = AnalysisProfile.list()"
      ]
    },
    {
      "cell_type": "code",
      "execution_count": null,
      "id": "0c8b829f-69b2-4216-875a-49c54617394a",
      "metadata": {
        "id": "0c8b829f-69b2-4216-875a-49c54617394a"
      },
      "outputs": [],
      "source": [
        "analysis_profiles.meta.total_count"
      ]
    },
    {
      "cell_type": "markdown",
      "id": "54ef133f-c15a-4e6e-b003-1daddfae2e9e",
      "metadata": {
        "tags": [],
        "id": "54ef133f-c15a-4e6e-b003-1daddfae2e9e"
      },
      "source": [
        "### Automatic Dereferencing"
      ]
    },
    {
      "cell_type": "markdown",
      "id": "c1d17c86-c6c7-4885-bbc5-14df8611948c",
      "metadata": {
        "id": "c1d17c86-c6c7-4885-bbc5-14df8611948c"
      },
      "source": [
        "As you can see above, the Prime API makes ample use of cross-referencing objects that alreay exist on the server. The Python-bindings can automatically dereference those references and \"lazy-load\" objects from the server when they are being access.\n",
        "\n",
        "For example, we will retrieve a Layer and then implicitly dereference and retrieve the associated Loss Set object and, in turn, the Loss Set's Event Catalog object. Note, the retrieval of those objects only includes their header data and not any underlying large datasets such as loss set data or event catalog data.\n",
        "\n",
        "Also note, the dereferencing occurs implicitly on a per-access basis, which is not always the most efficient approach as it is inherently sequential and unknowingly to the user/programmer may incur unnecessary requests."
      ]
    },
    {
      "cell_type": "code",
      "execution_count": null,
      "id": "53d3e106-99ba-4ee6-bbf5-44ece5b13399",
      "metadata": {
        "id": "53d3e106-99ba-4ee6-bbf5-44ece5b13399"
      },
      "outputs": [],
      "source": [
        "Layer.list(search=\"[Enter search term]\", limit=1)[0].loss_sets[0].event_catalogs[0].description"
      ]
    },
    {
      "cell_type": "markdown",
      "id": "7992aa9c-b0f8-48c0-91dc-78034dec318a",
      "metadata": {
        "tags": [],
        "id": "7992aa9c-b0f8-48c0-91dc-78034dec318a"
      },
      "source": [
        "## Uploading data"
      ]
    },
    {
      "cell_type": "markdown",
      "id": "8e29a667-568f-40f2-9086-11c4b61193c1",
      "metadata": {
        "id": "8e29a667-568f-40f2-9086-11c4b61193c1"
      },
      "source": [
        "Create a new loss set object and upload data associated with that newly created loss set object. However, first we need an event catalog as each loss set must be associated with an event catalog."
      ]
    },
    {
      "cell_type": "code",
      "execution_count": null,
      "id": "16c3a363-26b4-4bce-a86b-70809575766a",
      "metadata": {
        "id": "16c3a363-26b4-4bce-a86b-70809575766a"
      },
      "outputs": [],
      "source": [
        "ec = EventCatalog.retrieve('[Enter a GUID here]')\n",
        "print(\"ec 1 : \" + str(ec.id))\n",
        "# OR search for an event catalog by name (searches always return lists)\n",
        "ec = EventCatalog.list(search=\"[Enter the name for an event catalog here]\", limit=1)[0]\n",
        "print(\"ec 2 : \" + str(ec.id))"
      ]
    },
    {
      "cell_type": "markdown",
      "id": "ec0ec398-fd47-4fb0-ab9e-867fd62e64ab",
      "metadata": {
        "id": "ec0ec398-fd47-4fb0-ab9e-867fd62e64ab"
      },
      "source": [
        "Now we can create the loss set object."
      ]
    },
    {
      "cell_type": "code",
      "execution_count": null,
      "id": "c7e19aba-7f39-4e07-94e6-c1d933d52bb9",
      "metadata": {
        "id": "c7e19aba-7f39-4e07-94e6-c1d933d52bb9"
      },
      "outputs": [],
      "source": [
        "ls = LossSet(\n",
        "    # We always must specify the type of loss set. In this case we will upload a YELT loss set (Trial/Year, Time/Sequence, EventId, Loss)\n",
        "    type=\"YELTLossSet\",\n",
        "    # We also must specify an event catalog. We use the one we retrieved above.\n",
        "    event_catalogs=[ec],\n",
        "    # A description is required and always good to be meaningfully selected with respect to the client-application.\n",
        "    description=\"Test Loss Set for Python Training\",\n",
        "    # We also must specify the currency in which losses in the loss set are stored.\n",
        "    currency=\"USD\",\n",
        "    # For YELTLossSets we must set a start date of where the simulation begins. You can also use `datetime` here.\n",
        "    start_date=\"2022-01-01T00:00:00Z\",\n",
        "    # For YELTLossSets we must specify how many trials / years are represented by the loss set.\n",
        "    trial_count=10000,\n",
        ")    "
      ]
    },
    {
      "cell_type": "markdown",
      "id": "058b32ad-6c04-4f93-80a4-cd9d02abafb1",
      "metadata": {
        "id": "058b32ad-6c04-4f93-80a4-cd9d02abafb1"
      },
      "source": [
        "This only created an object client-side. Now we need to save it to the server."
      ]
    },
    {
      "cell_type": "code",
      "execution_count": null,
      "id": "6551900c-7599-46ad-acdd-37226e195608",
      "metadata": {
        "id": "6551900c-7599-46ad-acdd-37226e195608"
      },
      "outputs": [],
      "source": [
        "ls.save()"
      ]
    },
    {
      "cell_type": "markdown",
      "id": "69ca9e7e-42ed-4261-94b2-06c860fa54d6",
      "metadata": {
        "id": "69ca9e7e-42ed-4261-94b2-06c860fa54d6"
      },
      "source": [
        "Status `ready` means that the object is ready to receive data."
      ]
    },
    {
      "cell_type": "code",
      "execution_count": null,
      "id": "43cfce91-af07-4b3c-8378-01e26baea54c",
      "metadata": {
        "id": "43cfce91-af07-4b3c-8378-01e26baea54c"
      },
      "outputs": [],
      "source": [
        "ls.status"
      ]
    },
    {
      "cell_type": "markdown",
      "id": "ebd4abea-3c5c-466d-83e1-d119eb5a5f91",
      "metadata": {
        "id": "ebd4abea-3c5c-466d-83e1-d119eb5a5f91"
      },
      "source": [
        "Now we upload the data in CSV format. `upload_data` blocks until the status is set to \"Processing Successful\" or \"Processing Failed\"."
      ]
    },
    {
      "cell_type": "code",
      "execution_count": null,
      "id": "2ccd6c38-59b5-49b7-8448-7be0fb66fae1",
      "metadata": {
        "id": "2ccd6c38-59b5-49b7-8448-7be0fb66fae1"
      },
      "outputs": [],
      "source": [
        "ls.upload_data(open(\"local.csv\", \"rb\"))"
      ]
    },
    {
      "cell_type": "markdown",
      "id": "4628328b-eb66-4053-ba2d-4c6d551bfde4",
      "metadata": {
        "id": "4628328b-eb66-4053-ba2d-4c6d551bfde4"
      },
      "source": [
        "The loss set is now ready to be used."
      ]
    },
    {
      "cell_type": "markdown",
      "id": "60abbbea-7863-4cdf-8445-3ba0bab30315",
      "metadata": {
        "tags": [],
        "id": "60abbbea-7863-4cdf-8445-3ba0bab30315"
      },
      "source": [
        "## Creating Objects"
      ]
    },
    {
      "cell_type": "markdown",
      "id": "15671d6b-5984-455e-952f-b86cdaddce77",
      "metadata": {
        "jp-MarkdownHeadingCollapsed": true,
        "tags": [],
        "id": "15671d6b-5984-455e-952f-b86cdaddce77"
      },
      "source": [
        "### Create a Layer"
      ]
    },
    {
      "cell_type": "markdown",
      "id": "0da2fcbc-f2dc-4bd3-a6c3-b4f8fb23779c",
      "metadata": {
        "id": "0da2fcbc-f2dc-4bd3-a6c3-b4f8fb23779c"
      },
      "source": [
        "Layers are all created in a similar manner: A Python `Layer` object is created with arguments that match the required JSON attributes. Here we will create a CatXL layer and use the loss set uploaded above as the subject losses to this layer. However, we must first import additional types from the library."
      ]
    },
    {
      "cell_type": "code",
      "execution_count": null,
      "id": "05255471-5c7d-409d-9a65-e30ed041d4b2",
      "metadata": {
        "id": "05255471-5c7d-409d-9a65-e30ed041d4b2"
      },
      "outputs": [],
      "source": [
        "from analyzere import MonetaryUnit, Reinstatement"
      ]
    },
    {
      "cell_type": "code",
      "execution_count": null,
      "id": "45766cd0-6b30-46d4-96b1-7779d16b7418",
      "metadata": {
        "id": "45766cd0-6b30-46d4-96b1-7779d16b7418"
      },
      "outputs": [],
      "source": [
        "layer = Layer(\n",
        "    # Type of layer: CatXL\n",
        "    type=\"CatXL\",\n",
        "    # Loss sets associated with the layer\n",
        "    loss_sets=[ls],\n",
        "    # 3M USD attachment\n",
        "    attachment=MonetaryUnit(3e6, \"USD\"),\n",
        "    # 10M USD limit\n",
        "    limit=MonetaryUnit(10e6, \"USD\"),\n",
        "    # Franchise deductible is a required field, but we set it to 0 here.\n",
        "    franchise=MonetaryUnit(0, \"USD\"),\n",
        "    # The reinsurer's participation: 25%\n",
        "    participation=0.25,\n",
        "    # Inception date (optional, inclusive, supports `datetime`)\n",
        "    inception_date=\"2022-01-01T00:00:00Z\",\n",
        "    # Expiry date (optional, exclusive, supports `datetime`)\n",
        "    expiry_date=\"2023-01-01T00:00:00Z\",\n",
        "    # Description (optional)\n",
        "    description=\"Test Layer for Python Training\",\n",
        "    # Additional metadata fields (optional)\n",
        "    meta_data={\n",
        "        \"Test-LayerId\": 12345,\n",
        "        \"Test-Purpose\": \"Training\",\n",
        "        \"Test-Version\": 1,\n",
        "        \"Test-Latest\": True,\n",
        "    }\n",
        ").save()"
      ]
    },
    {
      "cell_type": "code",
      "execution_count": null,
      "id": "23efdfd4-6a4a-420a-a067-f8c8ef55b9c3",
      "metadata": {
        "id": "23efdfd4-6a4a-420a-a067-f8c8ef55b9c3"
      },
      "outputs": [],
      "source": [
        "layer"
      ]
    },
    {
      "cell_type": "markdown",
      "id": "a157dfc0-8b43-4bb3-9f4f-0bebc024837e",
      "metadata": {
        "jp-MarkdownHeadingCollapsed": true,
        "tags": [],
        "id": "a157dfc0-8b43-4bb3-9f4f-0bebc024837e"
      },
      "source": [
        "### Create a Portfolio"
      ]
    },
    {
      "cell_type": "code",
      "execution_count": null,
      "id": "e148febe-3100-408b-8dee-53058092a936",
      "metadata": {
        "id": "e148febe-3100-408b-8dee-53058092a936"
      },
      "outputs": [],
      "source": [
        "from analyzere import Portfolio"
      ]
    },
    {
      "cell_type": "markdown",
      "id": "051a0294-7e7c-42c7-b682-0bf4359f1162",
      "metadata": {
        "id": "051a0294-7e7c-42c7-b682-0bf4359f1162"
      },
      "source": [
        "A portfolio is simply a collection of layers. In this example, we will create a portfolio of only one layer."
      ]
    },
    {
      "cell_type": "code",
      "execution_count": null,
      "id": "0bfac1e8-500f-45ea-bd64-2f71857990d2",
      "metadata": {
        "id": "0bfac1e8-500f-45ea-bd64-2f71857990d2"
      },
      "outputs": [],
      "source": [
        "portfolio = Portfolio(\n",
        "    # A list of layers that are to me included in the portfolio. This can also be done\n",
        "    layers=[layer],\n",
        "    name=\"Test Portfolio for Python Training\",\n",
        "    description=\"Test Portfolio for Python Training\",\n",
        "    meta_data={\n",
        "        \"Test-PortfolioId\": 12345,\n",
        "        \"Test-Purpose\": \"Training\",\n",
        "        \"Test-Version\": 1,\n",
        "        \"Test-Latest\": True\n",
        "    }\n",
        ").save()"
      ]
    },
    {
      "cell_type": "code",
      "execution_count": null,
      "id": "a504ae9e-f281-458c-8682-54481ed1f14e",
      "metadata": {
        "id": "a504ae9e-f281-458c-8682-54481ed1f14e"
      },
      "outputs": [],
      "source": [
        "portfolio"
      ]
    },
    {
      "cell_type": "markdown",
      "id": "e1d54f33-ccbf-4d42-b795-58e592887b8a",
      "metadata": {
        "jp-MarkdownHeadingCollapsed": true,
        "tags": [],
        "id": "e1d54f33-ccbf-4d42-b795-58e592887b8a"
      },
      "source": [
        "## Modifying Objects"
      ]
    },
    {
      "cell_type": "markdown",
      "id": "77fe1a9d-4af2-40f8-8633-1bbbe78a1be5",
      "metadata": {
        "id": "77fe1a9d-4af2-40f8-8633-1bbbe78a1be5"
      },
      "source": [
        "Certain API objects such as Layers and Portfolios are mutable and can be modified after their initial creation. When these objects are modified they will retain their originally assigned ID. The Prime platform does not provide any built-in mechanisms for versioning or change history such that the original information stored with the object before modification is lost. However, there are client-side patterns that can be employed to store multiple versions of an object."
      ]
    },
    {
      "cell_type": "markdown",
      "id": "ad9f2c97-095d-427e-a530-a566514f09a0",
      "metadata": {
        "id": "ad9f2c97-095d-427e-a530-a566514f09a0"
      },
      "source": [
        "In the following example, we will update the layer we've created above with additional premium and reinstatement information. In addition, we will be creating a second layer which we will add to the previously created portfolio."
      ]
    },
    {
      "cell_type": "code",
      "execution_count": null,
      "id": "b2ef2e41-f818-4d24-a47e-952536986a26",
      "metadata": {
        "id": "b2ef2e41-f818-4d24-a47e-952536986a26"
      },
      "outputs": [],
      "source": [
        "# Retrieve originally created layer\n",
        "layer = Layer.retrieve(\"[Enter layer GUID]\")"
      ]
    },
    {
      "cell_type": "code",
      "execution_count": null,
      "id": "23e3f96d-51cf-430f-bb1b-4a51cacc7be5",
      "metadata": {
        "id": "23e3f96d-51cf-430f-bb1b-4a51cacc7be5"
      },
      "outputs": [],
      "source": [
        "# Update layer attributes\n",
        "layer.premium = MonetaryUnit(1e6, \"USD\")\n",
        "layer.reinstatements = [ \n",
        "    Reinstatement(premium=0.5, brokerage=0.1), \n",
        "    Reinstatement(premium=0.2, brokerage=0.1) \n",
        "]\n",
        "layer.save()"
      ]
    },
    {
      "cell_type": "code",
      "execution_count": null,
      "id": "258a398d-2e9c-483a-87a4-ccb9f78a3319",
      "metadata": {
        "id": "258a398d-2e9c-483a-87a4-ccb9f78a3319"
      },
      "outputs": [],
      "source": [
        "# Create another layer\n",
        "second_layer = Layer(\n",
        "    # Type of layer: CatXL\n",
        "    type=\"CatXL\",\n",
        "    # Loss sets associated with the layer\n",
        "    loss_sets=[ls],\n",
        "    # 3M USD attachment\n",
        "    attachment=MonetaryUnit(13e6, \"USD\"),\n",
        "    # 10M USD limit\n",
        "    limit=MonetaryUnit(5e6, \"USD\"),\n",
        "    # Franchise deductible is a required field, but we set it to 0 here.\n",
        "    franchise=MonetaryUnit(0, \"USD\"),\n",
        "    # The reinsurer's participation: 25%\n",
        "    participation=0.10,\n",
        "    # Inception date (optional, inclusive, supports `datetime`)\n",
        "    inception_date=\"2022-01-01T00:00:00Z\",\n",
        "    # Expiry date (optional, exclusive, supports `datetime`)\n",
        "    expiry_date=\"2023-01-01T00:00:00Z\",\n",
        "    # Description (optional)\n",
        "    description=\"Test Layer 2 for Python Training\",\n",
        "    # Additional metadata fields (optional)\n",
        "    meta_data={\n",
        "        \"Test-LayerId\": 12346,\n",
        "        \"Test-Purpose\": \"Training\",\n",
        "        \"Test-Version\": 1,\n",
        "        \"Test-Latest\": True,\n",
        "    }\n",
        ").save()"
      ]
    },
    {
      "cell_type": "code",
      "execution_count": null,
      "id": "9f852cd0-9313-49bc-a142-c6e27042abcb",
      "metadata": {
        "id": "9f852cd0-9313-49bc-a142-c6e27042abcb"
      },
      "outputs": [],
      "source": [
        "# Add second layer to portfolio\n",
        "portfolio = Portfolio.retrieve(portfolio.id)\n",
        "portfolio.layers.append(second_layer)\n",
        "portfolio.save()"
      ]
    },
    {
      "cell_type": "markdown",
      "id": "e5c47f8e-592f-4826-9e1e-0abe3552940a",
      "metadata": {
        "jp-MarkdownHeadingCollapsed": true,
        "tags": [],
        "id": "e5c47f8e-592f-4826-9e1e-0abe3552940a"
      },
      "source": [
        "## Creating Views\n",
        "\n",
        "Views are one of the Prime platform's most important features. They are used to associate a financial structure, such as a Layer or Portfolio, and their respectively associated Loss Sets, with an Analysis Profile, to facilitate the calculation of metrics. Views are immutable objects that cannot be modified once they are created. Upon creation each view is assigned an ID which is distinct for data that encompasses the view. Two identical views, which produce identical metrics, are assigned identical IDs.\n",
        "\n",
        "In order to create a Layer View we require a Layer object and an Analysis Profile. For this example, we will use the modified layer above `layer` and retrieve an appropriate Analysis Profile."
      ]
    },
    {
      "cell_type": "code",
      "execution_count": null,
      "id": "0647d3b0-4e21-45cf-a5b2-c96c96585c4f",
      "metadata": {
        "id": "0647d3b0-4e21-45cf-a5b2-c96c96585c4f"
      },
      "outputs": [],
      "source": [
        "from analyzere import LayerView"
      ]
    },
    {
      "cell_type": "code",
      "execution_count": null,
      "id": "0f76cc8a-2d93-4eea-943d-77f7c547dbda",
      "metadata": {
        "id": "0f76cc8a-2d93-4eea-943d-77f7c547dbda"
      },
      "outputs": [],
      "source": [
        "lv = LayerView(\n",
        "    analysis_profile=AnalysisProfile.retrieve(\"[Enter Analysis Profile GUID]\"),\n",
        "    layer=layer\n",
        ").save()"
      ]
    },
    {
      "cell_type": "code",
      "execution_count": null,
      "id": "7c19d39b-2f89-473a-9613-3e113ae1495c",
      "metadata": {
        "id": "7c19d39b-2f89-473a-9613-3e113ae1495c"
      },
      "outputs": [],
      "source": [
        "lv"
      ]
    },
    {
      "cell_type": "markdown",
      "id": "321edaf3-ccc3-46e9-9af5-f117cfc295b3",
      "metadata": {
        "id": "321edaf3-ccc3-46e9-9af5-f117cfc295b3"
      },
      "source": [
        "Similarly, in order to create a Portfolio View of a portfolio, we require a portfolio object `portfolio` and an appropriate Analysis Profile."
      ]
    },
    {
      "cell_type": "code",
      "execution_count": null,
      "id": "887501a7-aa9f-406d-9b05-dd786108bad7",
      "metadata": {
        "id": "887501a7-aa9f-406d-9b05-dd786108bad7"
      },
      "outputs": [],
      "source": [
        "from analyzere import PortfolioView"
      ]
    },
    {
      "cell_type": "code",
      "execution_count": null,
      "id": "59c08dfd-4bfd-4361-8055-53b64b9123f8",
      "metadata": {
        "id": "59c08dfd-4bfd-4361-8055-53b64b9123f8"
      },
      "outputs": [],
      "source": [
        "pv = PortfolioView(\n",
        "    analysis_profile=AnalysisProfile.retrieve(\"[Enter Analysis Profile GUID]\"),\n",
        "    portfolio=portfolio,\n",
        "    target_currency=\"USD\",\n",
        ").save()"
      ]
    },
    {
      "cell_type": "code",
      "execution_count": null,
      "id": "ff26b0cd-f628-4820-8276-9c8ab1341e72",
      "metadata": {
        "id": "ff26b0cd-f628-4820-8276-9c8ab1341e72"
      },
      "outputs": [],
      "source": [
        "pv\n",
        "# Note: Creating the Portfolio View has implicitly created Layer Views \n",
        "# for all of my layers in the portfolio. Also note that the Layer View ID \n",
        "# for my first layer is identical to the Layer View ID created above because \n",
        "# they refer to the same data."
      ]
    },
    {
      "cell_type": "markdown",
      "id": "f8866ac1-e222-4d0f-90cc-e363553c72bc",
      "metadata": {
        "id": "f8866ac1-e222-4d0f-90cc-e363553c72bc"
      },
      "source": [
        "It is also possible to change the default reporting currency for a Layer View or Portfolio View by specifying the `target_currency` attribute during construction."
      ]
    },
    {
      "cell_type": "code",
      "execution_count": null,
      "id": "04ffe586-a1cb-4a2c-9af3-451666336b57",
      "metadata": {
        "id": "04ffe586-a1cb-4a2c-9af3-451666336b57"
      },
      "outputs": [],
      "source": [
        "pv_gbp = PortfolioView(\n",
        "    analysis_profile=AnalysisProfile.retrieve(\"[Enter Analysis Profile GUID]\"),\n",
        "    portfolio=portfolio,\n",
        "    target_currency=\"GBP\",\n",
        ").save()"
      ]
    },
    {
      "cell_type": "code",
      "execution_count": null,
      "id": "7214fcbf-ee07-4569-938d-58616061f62a",
      "metadata": {
        "id": "7214fcbf-ee07-4569-938d-58616061f62a"
      },
      "outputs": [],
      "source": [
        "pv_gbp"
      ]
    },
    {
      "cell_type": "markdown",
      "id": "f003ecf0-6b5f-4b28-a96e-9f38376fd1e6",
      "metadata": {
        "jp-MarkdownHeadingCollapsed": true,
        "tags": [],
        "id": "f003ecf0-6b5f-4b28-a96e-9f38376fd1e6"
      },
      "source": [
        "## Querying metrics"
      ]
    },
    {
      "cell_type": "markdown",
      "id": "02ab9429-d258-4f21-8c82-6eec01cd2685",
      "metadata": {
        "id": "02ab9429-d258-4f21-8c82-6eec01cd2685"
      },
      "source": [
        "As indicated above, views are primarily used to obtain metrics for a specific Layer or Portfolio using the modelling configuration specified in the Analysis Profile. The Prime platform offers the ability to query a number of different risk metrics through a simple yet powerful interface. Some common risk metrics such as Expected Loss (AAL) have short-cut functions, but the unterlying calculations are identical."
      ]
    },
    {
      "cell_type": "code",
      "execution_count": null,
      "id": "2691291d-cb8a-4d47-b1d8-c7319c00fa13",
      "metadata": {
        "id": "2691291d-cb8a-4d47-b1d8-c7319c00fa13"
      },
      "outputs": [],
      "source": [
        "# Query various expected losses (AAL) from a Layer View\n",
        "print(\"Expected loss (losses-only, no filters): \", lv.el())\n",
        "print(\"Expected loss (losses-only, US Florida WS): \", lv.el(filter=\"US_Florida_WS\"))\n",
        "print(\n",
        "    \"Expected loss (net Prem/ReinPrem, no filters): \",\n",
        "    lv.el(perspective=\"NetLoss,Premium,ReinstatementPremium\")\n",
        ")\n",
        "print(\n",
        "    \"Expected loss (net ReinPrem, US Florida WS): \",\n",
        "    lv.el(perspective=\"NetLoss,ReinstatementPremium\", filter=\"US_Florida_WS\")\n",
        ")\n",
        "print(\n",
        "    \"Expected loss OEP (losses-only, US Florida WS): \", \n",
        "    lv.el(filter=\"US_Florida_WS\", aggregation_method=\"OEP\")\n",
        ")"
      ]
    },
    {
      "cell_type": "code",
      "execution_count": null,
      "id": "f483bb17-bc0b-4530-b65c-5a14e6a6958a",
      "metadata": {
        "id": "f483bb17-bc0b-4530-b65c-5a14e6a6958a"
      },
      "outputs": [],
      "source": [
        "# Note that for stand-alone metrics participation is not applied by default.\n",
        "print(\"Our Expected loss (losses-only, no filters): \", lv.el(apply_participation=True))\n",
        "print(\n",
        "    \"Our Expected loss (losses-only, US Florida WS): \", \n",
        "    lv.el(apply_participation=True, filter=\"US_Florida_WS\")\n",
        ")\n",
        "print(\n",
        "    \"Our Expected loss (net Prem/ReinPrem, no filters): \",\n",
        "    lv.el(\n",
        "        apply_participation=True,\n",
        "        perspective=\"NetLoss,Premium,ReinstatementPremium\"\n",
        "    )\n",
        ")\n",
        "print(\n",
        "    \"Our Expected loss (net ReinPrem, US Florida WS): \",\n",
        "    lv.el(\n",
        "        perspective=\"NetLoss,ReinstatementPremium\", \n",
        "        filter=\"US_Florida_WS\",\n",
        "        apply_participation=True\n",
        "    )\n",
        ")\n",
        "print(\n",
        "    \"Expected loss OEP (losses-only, US Florida WS): \", \n",
        "    lv.el(\n",
        "        filter=\"US_Florida_WS\", \n",
        "        aggregation_method=\"OEP\",\n",
        "        apply_participation=True\n",
        "    )\n",
        ")"
      ]
    },
    {
      "cell_type": "code",
      "execution_count": null,
      "id": "9106f3fc-c9be-416f-a72a-0429523f0a78",
      "metadata": {
        "id": "9106f3fc-c9be-416f-a72a-0429523f0a78"
      },
      "outputs": [],
      "source": [
        "# Similarly we can query the expected losses (AAL) for Portfolio Views\n",
        "print(\"Expected loss (losses-only, no filters): \", pv.el())\n",
        "print(\"Expected loss (losses-only, US Florida WS): \", pv.el(filter=\"US_Florida_WS\"))\n",
        "print(\n",
        "    \"Expected loss (net Prem/ReinPrem, no filters): \",\n",
        "    pv.el(perspective=\"NetLoss,Premium,ReinstatementPremium\")\n",
        ")\n",
        "print(\n",
        "    \"Expected loss (net ReinPrem, US Florida WS): \",\n",
        "    pv.el(perspective=\"NetLoss,ReinstatementPremium\", filter=\"US_Florida_WS\")\n",
        ")\n",
        "print(\n",
        "    \"Expected loss OEP (losses-only, US Florida WS): \", \n",
        "    pv.el(\n",
        "        filter=\"US_Florida_WS\", \n",
        "        aggregation_method=\"OEP\",\n",
        "    )\n",
        ")\n",
        "# Note that for portfolio view metrics individual layer participations are always applied."
      ]
    },
    {
      "cell_type": "markdown",
      "id": "c54b259b-41b6-4ee6-806c-31f0cd202e8f",
      "metadata": {
        "id": "c54b259b-41b6-4ee6-806c-31f0cd202e8f"
      },
      "source": [
        "### VaR / TVaR / CTE"
      ]
    },
    {
      "cell_type": "code",
      "execution_count": null,
      "id": "daf04932-d3d3-477b-bd1f-85824b0693de",
      "metadata": {
        "id": "daf04932-d3d3-477b-bd1f-85824b0693de"
      },
      "outputs": [],
      "source": [
        "# Tail Metrics are various statistics that are computed for the tail of the loss distribution\n",
        "lv.tail_metrics(0.1)"
      ]
    },
    {
      "cell_type": "code",
      "execution_count": null,
      "id": "aec49ed6-cff8-4f04-8350-0c5beca626d0",
      "metadata": {
        "id": "aec49ed6-cff8-4f04-8350-0c5beca626d0"
      },
      "outputs": [],
      "source": [
        "# Layer View tail metrics\n",
        "return_period = 10\n",
        "probability = 1.0 / return_period\n",
        "print(\n",
        "    f\"Layer 1-in-{return_period} CTE (losses-only, no filter):\",\n",
        "    lv.tail_metrics(probability).mean\n",
        ")\n",
        "print(\n",
        "    f\"Layer 1-in-{return_period} CTE (losses-only, US Florida WS):\",\n",
        "    lv.tail_metrics(probability, filter=\"US_Florida_WS\").mean\n",
        ")\n",
        "print(\n",
        "    f\"Layer 1-in-{return_period} CTE (net Prem/ReinPrem, no filter):\",\n",
        "    lv.tail_metrics(probability, perspective=\"NetLoss,Premium,ReinstatementPremium\").mean\n",
        ")\n",
        "print(\n",
        "    f\"Layer 1-in-{return_period} CTE (net ReinPrem, US Florida WS):\",\n",
        "    lv.tail_metrics(\n",
        "        probability, \n",
        "        perspective=\"NetLoss,ReinstatementPremium\",\n",
        "        filter=\"US_Florida_WS\"\n",
        "    ).mean\n",
        ")\n",
        "print(\n",
        "    f\"Layer 1-in-{return_period} OEP CTE (net ReinPrem, US Florida WS):\",\n",
        "    lv.tail_metrics(\n",
        "        probability, \n",
        "        perspective=\"NetLoss,ReinstatementPremium\",\n",
        "        filter=\"US_Florida_WS\",\n",
        "        aggregation_method=\"OEP\"\n",
        "    ).mean\n",
        ")"
      ]
    },
    {
      "cell_type": "code",
      "execution_count": null,
      "id": "257e4933-f0fd-4a92-b5b9-9d109e27cd63",
      "metadata": {
        "id": "257e4933-f0fd-4a92-b5b9-9d109e27cd63"
      },
      "outputs": [],
      "source": [
        "# Portfolio View tail metrics (participation applied)\n",
        "return_period = 10\n",
        "probability = 1.0 / return_period\n",
        "print(\n",
        "    f\"Portfolio 1-in-{return_period} CTE (losses-only, no filter):\",\n",
        "    pv.tail_metrics(probability).mean\n",
        ")\n",
        "print(\n",
        "    f\"Portfolio 1-in-{return_period} CTE (losses-only, US Florida WS):\",\n",
        "    pv.tail_metrics(probability, filter=\"US_Florida_WS\").mean\n",
        ")\n",
        "print(\n",
        "    f\"Portfolio 1-in-{return_period} CTE (net Prem/ReinPrem, no filter):\",\n",
        "    pv.tail_metrics(probability, perspective=\"NetLoss,Premium,ReinstatementPremium\").mean\n",
        ")\n",
        "print(\n",
        "    f\"Portfolio 1-in-{return_period} CTE (net ReinPrem, US Florida WS):\",\n",
        "    pv.tail_metrics(\n",
        "        probability, \n",
        "        perspective=\"NetLoss,ReinstatementPremium\",\n",
        "        filter=\"US_Florida_WS\"\n",
        "    ).mean\n",
        ")\n",
        "print(\n",
        "    f\"Portfolio 1-in-{return_period} OEP CTE (net ReinPrem, US Florida WS):\",\n",
        "    pv.tail_metrics(\n",
        "        probability, \n",
        "        perspective=\"NetLoss,ReinstatementPremium\",\n",
        "        filter=\"US_Florida_WS\",\n",
        "        aggregation_method=\"OEP\"\n",
        "    ).mean\n",
        ")"
      ]
    },
    {
      "cell_type": "markdown",
      "id": "c612b6be-59b7-4ed6-a75c-a9407ff3eb9f",
      "metadata": {
        "id": "c612b6be-59b7-4ed6-a75c-a9407ff3eb9f"
      },
      "source": [
        "### Exceedance Probability\n",
        "\n",
        "The probability a loss reaches or exceeds a certain threshold. Used to determine attachment, exhaustion, and reinstatement probabilities."
      ]
    },
    {
      "cell_type": "code",
      "execution_count": null,
      "id": "bedeb1ce-09a2-486f-a498-0186db3b965f",
      "metadata": {
        "id": "bedeb1ce-09a2-486f-a498-0186db3b965f"
      },
      "outputs": [],
      "source": [
        "print(f\"Layer attachment probability:\", lv.ep(0.0).probability)\n",
        "print(\n",
        "    f\"Layer occurrence exhaustion probability:\", \n",
        "    lv.ep(\n",
        "        lv.layer.limit.value, \n",
        "        inclusive_threshold=True,\n",
        "        aggregation_method=\"OEP\",\n",
        "    ).probability\n",
        ")\n",
        "print(\n",
        "    f\"Layer aggregate exhaustion probability:\", \n",
        "    lv.ep(\n",
        "        lv.layer.limit.value*(len(lv.layer.reinstatements)+1), \n",
        "        inclusive_threshold=True\n",
        "    ).probability\n",
        ")\n",
        "print(\n",
        "    f\"Layer reinstatement probability:\", \n",
        "    lv.ep(\n",
        "        lv.layer.limit.value, \n",
        "        inclusive_threshold=False,\n",
        "    ).probability\n",
        ")"
      ]
    },
    {
      "cell_type": "markdown",
      "id": "58b07906-6c0e-4358-89f7-96541d19e9de",
      "metadata": {
        "tags": [],
        "id": "58b07906-6c0e-4358-89f7-96541d19e9de"
      },
      "source": [
        "## Performance Optimizations"
      ]
    },
    {
      "cell_type": "markdown",
      "id": "09063572-dcc3-4903-84e1-2a7b76c5e21d",
      "metadata": {
        "id": "09063572-dcc3-4903-84e1-2a7b76c5e21d"
      },
      "source": [
        "HTTP REST requests incur some overhead through latency between the client and server, and processing overhead on the server side. Overall application throughput can be greatly enhanced by employing two techniques:\n",
        "\n",
        "1. Vectorization: to reduce that overhead\n",
        "2. Parallelism: to amortize the overhead"
      ]
    },
    {
      "cell_type": "markdown",
      "id": "0ce34b0e-a118-4a02-b54c-68218cc35433",
      "metadata": {
        "id": "0ce34b0e-a118-4a02-b54c-68218cc35433"
      },
      "source": [
        "### Vectorization\n",
        "\n",
        "Most metrics request offer the opportunity to specify a vector of probabilities or thresholds which bundle multiple requests into a single request."
      ]
    },
    {
      "cell_type": "code",
      "execution_count": null,
      "id": "788a82b3-c98b-4806-b0d1-2200288cb6bd",
      "metadata": {
        "id": "788a82b3-c98b-4806-b0d1-2200288cb6bd"
      },
      "outputs": [],
      "source": [
        "[ point.mean for point in lv.tail_metrics([1.0, 0.5, 0.2, 0.1]) ]"
      ]
    },
    {
      "cell_type": "code",
      "execution_count": null,
      "id": "ee1b2d17-9d82-4e8a-82d6-aac5049802bc",
      "metadata": {
        "id": "ee1b2d17-9d82-4e8a-82d6-aac5049802bc"
      },
      "outputs": [],
      "source": [
        "[ \n",
        "    threshold.probability \n",
        "    for threshold in lv.ep([0.5e6, 1e6, 2e5, 3e6], inclusive_threshold=True) \n",
        "]"
      ]
    },
    {
      "cell_type": "markdown",
      "id": "c6e565ee-a1c1-49e9-9213-c88d513d4af8",
      "metadata": {
        "id": "c6e565ee-a1c1-49e9-9213-c88d513d4af8"
      },
      "source": [
        "### Parallelism"
      ]
    },
    {
      "cell_type": "markdown",
      "id": "bb796d08-d2e5-48b6-8d46-a478fe64b04c",
      "metadata": {
        "id": "bb796d08-d2e5-48b6-8d46-a478fe64b04c"
      },
      "source": [
        "Some parameters to metrics requests cannot be vectorized. For example, requesting metrics for different filters are always separate request. However, sometimes metrics for a particularly large number of filters and/or perspectives must be retrieved. In those situations it is beneficial to issue multiple requests to the platform concurrenly to amortize each individual request's overhead across parallel requests. For example:"
      ]
    },
    {
      "cell_type": "code",
      "execution_count": null,
      "id": "94464887-fd0c-4ae3-bcdf-28bdd0b5e3fe",
      "metadata": {
        "id": "94464887-fd0c-4ae3-bcdf-28bdd0b5e3fe"
      },
      "outputs": [],
      "source": [
        "filters = [\n",
        "    \"Caribbean_WS\",\n",
        "    \"Central_America_WS\",\n",
        "    \"Mexico_WS\",\n",
        "    \"US_Florida_WS\",\n",
        "    \"US_Gulf_WS\",\n",
        "    \"US_Mid_Atlantic_WS\",\n",
        "    \"US_North_East_WS\",\n",
        "    \"US_Texas_WS\"\n",
        "]\n",
        "aggregation_methods = [\"AEP\", \"OEP\"]\n",
        "perspectives = [\"NetLoss\", \"NetLoss,ReinstatementPremium\"]"
      ]
    },
    {
      "cell_type": "code",
      "execution_count": null,
      "id": "1fda2486-f7c0-44f0-a563-b2c1d3b6b0d0",
      "metadata": {
        "id": "1fda2486-f7c0-44f0-a563-b2c1d3b6b0d0"
      },
      "outputs": [],
      "source": [
        "from itertools import product\n",
        "requests = list(product(filters, aggregation_methods, perspectives))\n",
        "print(f\"Number of requests required: {len(requests)}\")"
      ]
    },
    {
      "cell_type": "code",
      "execution_count": null,
      "id": "647715b7-120d-4aae-b807-ab7e80e8556f",
      "metadata": {
        "id": "647715b7-120d-4aae-b807-ab7e80e8556f"
      },
      "outputs": [],
      "source": [
        "# Execute multiple requests in parallel using a ThreadPoolExecutor\n",
        "from concurrent.futures import ThreadPoolExecutor as Pool\n",
        "\n",
        "with Pool(8) as pool:\n",
        "    \n",
        "    # Helper function\n",
        "    def get_cte(filter, aggregation_method, perspective):\n",
        "        return lv.tail_metrics(\n",
        "            0.1, \n",
        "            filter=filter, \n",
        "            aggregation_method=aggregation_method, \n",
        "            perspective=perspective\n",
        "        ).mean\n",
        "    \n",
        "    results = list(pool.map(lambda job: get_cte(*job), requests))\n",
        "\n",
        "list(zip(requests, results))"
      ]
    },
    {
      "cell_type": "markdown",
      "id": "6fdfba22-4719-428e-b015-7116d9dbc09b",
      "metadata": {
        "jp-MarkdownHeadingCollapsed": true,
        "tags": [],
        "id": "6fdfba22-4719-428e-b015-7116d9dbc09b"
      },
      "source": [
        "## Advanced Metrics"
      ]
    },
    {
      "cell_type": "markdown",
      "id": "e57148da-2f66-42ac-b049-772fea0638b8",
      "metadata": {
        "id": "e57148da-2f66-42ac-b049-772fea0638b8"
      },
      "source": [
        "### Co-Metrics"
      ]
    },
    {
      "cell_type": "code",
      "execution_count": null,
      "id": "fc8c3a00-9ca9-48d7-9806-56772d469398",
      "metadata": {
        "id": "fc8c3a00-9ca9-48d7-9806-56772d469398"
      },
      "outputs": [],
      "source": [
        "# Contribution of Layer 2 to the Portfolio 1-in-10\n",
        "pv.co_metrics(\n",
        "    0.1, \n",
        "    component_id=pv.layer_views[1].id, \n",
        "    component_type=\"LayerView\", \n",
        "    include_primary_metrics=True\n",
        ")"
      ]
    },
    {
      "cell_type": "code",
      "execution_count": null,
      "id": "a44fc98c-a838-4549-8430-f2b3e2ab2bad",
      "metadata": {
        "id": "a44fc98c-a838-4549-8430-f2b3e2ab2bad"
      },
      "outputs": [],
      "source": [
        "# Contribution of Layer 2 US_Florida_WS to the Portfolio 1-in-10\n",
        "pv.co_metrics(\n",
        "    0.1, \n",
        "    component_id=pv.layer_views[1].id, \n",
        "    component_type=\"LayerView\",\n",
        "    component_filter=\"US_Florida_WS\",\n",
        "    include_primary_metrics=True\n",
        ").component_metrics.mean"
      ]
    },
    {
      "cell_type": "markdown",
      "id": "ec741255-214d-4a55-90cd-13e7cb069259",
      "metadata": {
        "id": "ec741255-214d-4a55-90cd-13e7cb069259"
      },
      "source": [
        "### Window Metrics"
      ]
    },
    {
      "cell_type": "code",
      "execution_count": null,
      "id": "70b4621c-6e94-4008-9fc8-ca653fb0d170",
      "metadata": {
        "id": "70b4621c-6e94-4008-9fc8-ca653fb0d170"
      },
      "outputs": [],
      "source": [
        "# 1-in-5 good vs. 1-in-5 bad years\n",
        "pv.window_metrics([(0.8, 1.0), (0.0, 0.2)])"
      ]
    }
  ],
  "metadata": {
    "kernelspec": {
      "display_name": "Python 3 (ipykernel)",
      "language": "python",
      "name": "python3"
    },
    "language_info": {
      "codemirror_mode": {
        "name": "ipython",
        "version": 3
      },
      "file_extension": ".py",
      "mimetype": "text/x-python",
      "name": "python",
      "nbconvert_exporter": "python",
      "pygments_lexer": "ipython3",
      "version": "3.10.8"
    },
    "colab": {
      "provenance": [],
      "toc_visible": true
    }
  },
  "nbformat": 4,
  "nbformat_minor": 5
}