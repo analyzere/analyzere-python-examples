{
  "cells": [
    {
      "cell_type": "markdown",
      "id": "hundred-expense",
      "metadata": {
        "id": "hundred-expense"
      },
      "source": [
        "# Python Optimization Overview\n",
        "\n",
        "## Outline\n",
        "\n",
        "1. Server Configuration\n",
        "2. Optimization Views\n",
        "    - Retrieve an Optimization View\n",
        "    - List Optimization Views\n",
        "3. Optimization Domains\n",
        "4. Candidates\n",
        "    - Retrieve Candidates by Index\n",
        "    - List Candidate Parameters\n",
        "    - Retrieve Candidate Metrics\n",
        "    - Perform metric requests on the Candidate Portfolios\n",
        "5. Initial Portfolio Metrics\n",
        "6. Retrieve Sensitivity Analysis\n",
        "    - Filter by Candidates' Indexes\n",
        "7. Download Optimization Results CSV\n",
        "\n",
        "**NOTE: The code snippets in this notebook file can be found in http://docs.analyzere.net/#optimization-views by navigating through the sub-sections on the left pane and choosing the Python language on the code snippet area.**"
      ]
    },
    {
      "cell_type": "code",
      "execution_count": 5,
      "id": "superb-supply",
      "metadata": {
        "id": "superb-supply"
      },
      "outputs": [],
      "source": [
        "import analyzere\n",
        "import csv\n",
        "\n",
        "from getpass import getpass\n",
        "from analyzere import OptimizationView, PortfolioView\n",
        "from analyzere.requestor import request_raw, request\n",
        "from analyzere.base_resources import convert_to_analyzere_object\n",
        "from analyzere.resources import Candidate"
      ]
    },
    {
      "cell_type": "markdown",
      "id": "juvenile-speaking",
      "metadata": {
        "id": "juvenile-speaking"
      },
      "source": [
        "### 1. Sever Configuration"
      ]
    },
    {
      "cell_type": "code",
      "execution_count": null,
      "id": "american-training",
      "metadata": {
        "id": "american-training"
      },
      "outputs": [],
      "source": [
        "# Update the correct URL and username below and run the cell to provide the password\n",
        "\n",
        "analyzere.base_url = 'https://yourcompany-api.analyzere.net/'\n",
        "analyzere.username = ''\n",
        "analyzere.password = getpass('Password: ')"
      ]
    },
    {
      "cell_type": "markdown",
      "id": "numeric-cathedral",
      "metadata": {
        "id": "numeric-cathedral"
      },
      "source": [
        "### 2. Optimization Views\n",
        "\n",
        "Optimization Views provide the ability to execute optimization of portfolios in the AnalyzeRe system."
      ]
    },
    {
      "cell_type": "markdown",
      "id": "biological-document",
      "metadata": {
        "id": "biological-document"
      },
      "source": [
        "#### Retrieving an Optimization View"
      ]
    },
    {
      "cell_type": "code",
      "execution_count": null,
      "id": "verified-inclusion",
      "metadata": {
        "id": "verified-inclusion"
      },
      "outputs": [],
      "source": [
        "ov = analyzere.OptimizationView.retrieve('cf582b25-553f-4f2e-9090-0059ca73ce52')\n",
        "print('Optimization View: {}'.format(ov.description))"
      ]
    },
    {
      "cell_type": "markdown",
      "id": "backed-sunrise",
      "metadata": {
        "id": "backed-sunrise"
      },
      "source": [
        "#### Listing Optimization Views"
      ]
    },
    {
      "cell_type": "code",
      "execution_count": null,
      "id": "departmental-hierarchy",
      "metadata": {
        "id": "departmental-hierarchy"
      },
      "outputs": [],
      "source": [
        "optimization_views = analyzere.OptimizationView.list(search='demo',\n",
        "                                           ordering='-created')\n",
        "\n",
        "print('Retrieved {} Optimization Views'.format(len(optimization_views)))\n",
        "\n",
        "for optimization_view in optimization_views:\n",
        "    print('{} : {} '.format(optimization_view.id, optimization_view.description))"
      ]
    },
    {
      "cell_type": "markdown",
      "id": "subtle-thompson",
      "metadata": {
        "id": "subtle-thompson"
      },
      "source": [
        "### 3. Optimization Domains\n",
        "\n",
        "Optimization Domains that specify which Layers to include, along with per-layer constraints."
      ]
    },
    {
      "cell_type": "code",
      "execution_count": null,
      "id": "brazilian-rental",
      "metadata": {
        "id": "brazilian-rental"
      },
      "outputs": [],
      "source": [
        "print('Total Optimization Domains in this OptimizationView: {}'.format(len(ov.domains)))\n",
        "\n",
        "for domain in ov.domains:\n",
        "    print('Sample domain: {}'.format(domain))"
      ]
    },
    {
      "cell_type": "markdown",
      "id": "raising-anger",
      "metadata": {
        "id": "raising-anger"
      },
      "source": [
        "### 4. Candidates\n",
        "\n",
        "When an optimization is finished running, its candidates are available. They provide the optimized participation values for the Layers specified as Optimization Domains."
      ]
    },
    {
      "cell_type": "code",
      "execution_count": null,
      "id": "boxed-alarm",
      "metadata": {
        "id": "boxed-alarm"
      },
      "outputs": [],
      "source": [
        "candidates = ov.candidates()\n",
        "print('Total number of candidates: {}'.format(len(candidates)))\n",
        "\n",
        "for c in candidates:\n",
        "    print('Candidate Portfolio: {}'.format(c.portfolio_view().id))\n",
        "    break # Remove this line to print all the Candidate Portfolios"
      ]
    },
    {
      "cell_type": "markdown",
      "id": "excessive-remedy",
      "metadata": {
        "id": "excessive-remedy"
      },
      "source": [
        "#### Retrieve Candidates by Index\n",
        "\n",
        "Candidates can be retrieved by index. \n",
        "Note that you’ll receive a 404 Not Found error if requesting any candidates \n",
        "outside the range of candidates available."
      ]
    },
    {
      "cell_type": "code",
      "execution_count": null,
      "id": "reserved-crowd",
      "metadata": {
        "id": "reserved-crowd"
      },
      "outputs": [],
      "source": [
        "# Retrieving first candidate\n",
        "\n",
        "candidate = ov.candidates(0)\n",
        "print(candidate)"
      ]
    },
    {
      "cell_type": "markdown",
      "id": "dense-processor",
      "metadata": {
        "id": "dense-processor"
      },
      "source": [
        "####  List Candidate Parameters\n",
        "\n",
        "Retrieves the parameterizations of candidates. It returns all candidates’ layer participation values in an array. The order of the values within the participations array corresponds to the layers’ indexes in the OptimizationDomain of the OptimizationView."
      ]
    },
    {
      "cell_type": "code",
      "execution_count": null,
      "id": "mobile-renewal",
      "metadata": {
        "id": "mobile-renewal"
      },
      "outputs": [],
      "source": [
        "candidate_parameters = ov.candidate_parameters()\n",
        "\n",
        "print(candidate_parameters)"
      ]
    },
    {
      "cell_type": "markdown",
      "id": "dramatic-heater",
      "metadata": {
        "id": "dramatic-heater"
      },
      "source": [
        "#### Retrieve Candidate Metrics\n",
        "\n",
        "Returns the objective, constraint, and feasibility values for all candidates as lists that are ordered by the index of their corresponding candidate."
      ]
    },
    {
      "cell_type": "code",
      "execution_count": null,
      "id": "intellectual-roberts",
      "metadata": {
        "id": "intellectual-roberts"
      },
      "outputs": [],
      "source": [
        "candidate_metrics = ov.candidate_metrics()\n",
        "\n",
        "print(candidate_metrics)"
      ]
    },
    {
      "cell_type": "markdown",
      "metadata": {
        "id": "C6rPdiUbp419"
      },
      "source": [
        "#### Retrieve Candidate Portfolio\n",
        "\n",
        "Presently, there is not a direct method to retrieve a candidate portfolio (given the portfolio view and candidate index) without retrieving the entire Optimization View. However, the following workflow shows how it can be done with a simple `candidate_count` method and some additional code. Please note: it's best to execute this code separately from the rest of the notebook."
      ],
      "id": "C6rPdiUbp419"
    },
    {
      "cell_type": "code",
      "source": [
        "def candidate_count(self):\n",
        "  path = '{}/candidates'.format(self._get_path(self.id))\n",
        "  resp = request('get', path, params={\"limit\": 0})\n",
        "  return convert_to_analyzere_object(resp, Candidate, optimization_view_id=self.id).meta.total_count\n",
        "\n",
        "OptimizationView.candidate_count = candidate_count"
      ],
      "metadata": {
        "id": "2rgbmzhcqjfp"
      },
      "id": "2rgbmzhcqjfp",
      "execution_count": null,
      "outputs": []
    },
    {
      "cell_type": "code",
      "source": [
        "ov = OptimizationView.list(ids=[\"portfolio-view-id here\"], fields=\"id\")[0]"
      ],
      "metadata": {
        "id": "dI7J0MXGrUX7"
      },
      "id": "dI7J0MXGrUX7",
      "execution_count": null,
      "outputs": []
    },
    {
      "cell_type": "markdown",
      "source": [
        "Once we selected the `OptimizationView`, we can loop through the total candidates and find the candidate portfolio which is relevant to us."
      ],
      "metadata": {
        "id": "XqV6taMFr550"
      },
      "id": "XqV6taMFr550"
    },
    {
      "cell_type": "code",
      "source": [
        "for i in range(ov.candidate_count()):\n",
        "  pv = ov.candidates(i).portfolio_view().id\n",
        "  print(pv)"
      ],
      "metadata": {
        "id": "pLh9_OK1scQs"
      },
      "id": "pLh9_OK1scQs",
      "execution_count": null,
      "outputs": []
    },
    {
      "cell_type": "markdown",
      "id": "photographic-locator",
      "metadata": {
        "id": "photographic-locator"
      },
      "source": [
        "#### Perform metric requests on the Candidate Portfolios\n",
        "Each optimization Candidate provides a convenience access to its PortfolioView. Metrics can be requested to perform detailed analysis on any given candidate via its PortfolioView. For all the available metric requests supported by the Python client library, visit http://docs.analyzere.net/#retrieve223."
      ]
    },
    {
      "cell_type": "code",
      "execution_count": null,
      "id": "united-observer",
      "metadata": {
        "id": "united-observer"
      },
      "outputs": [],
      "source": [
        "candidates = ov.candidates()\n",
        "\n",
        "for c in candidates:\n",
        "    print('Candidate Portfolio: {}'.format(c.portfolio_view().id))\n",
        "    print('1 in 100 TVAR: {}'.format(c.portfolio_view().tvar(0.1)))\n",
        "    print('AAL: {}'.format(c.portfolio_view().el()))\n",
        "    print('Tail Metrics: {}'.format(c.portfolio_view().tail_metrics(0.1)))\n",
        "    break # Remove this statement to print the results of all the candidates"
      ]
    },
    {
      "cell_type": "markdown",
      "id": "small-prince",
      "metadata": {
        "id": "small-prince"
      },
      "source": [
        "### 5. Initial Portfolio Metrics\n",
        "\n",
        "The initial portfolio metrics can be retrieved for an Optimization View to inspect the analysis results for the layers provided at Optimization View creation time. These metrics may be compared to the resulting candidates to determine the suitability of individual candidates."
      ]
    },
    {
      "cell_type": "code",
      "execution_count": null,
      "id": "disturbed-badge",
      "metadata": {
        "id": "disturbed-badge"
      },
      "outputs": [],
      "source": [
        "initial_portfolio_metrics = ov.initial_metrics()\n",
        "\n",
        "print(initial_portfolio_metrics)"
      ]
    },
    {
      "cell_type": "markdown",
      "id": "fuzzy-roman",
      "metadata": {
        "id": "fuzzy-roman"
      },
      "source": [
        "### 6. Retrieve Sensitivity Analysis\n",
        "\n",
        "\n",
        "We can analyze the distribution properties of layers participations across all available candidate portfolios. The endpoint returns a list of layer sensitivities. Each layer sensitivity contains several statistical metrics: minimum, maximum and average layer participation; normalized standard deviation and interquartile ranges; and histogram data."
      ]
    },
    {
      "cell_type": "code",
      "execution_count": null,
      "id": "intellectual-trace",
      "metadata": {
        "id": "intellectual-trace"
      },
      "outputs": [],
      "source": [
        "sensitivity_analysis = ov.sensitivity_analysis()\n",
        "\n",
        "print(sensitivity_analysis)"
      ]
    },
    {
      "cell_type": "markdown",
      "id": "talented-modern",
      "metadata": {
        "id": "talented-modern"
      },
      "source": [
        "#### Filter by Candidates' Indexes\n",
        "\n",
        "If a list of candidates is not provided, then all candidates are included in the analysis. If a list of candidates is provided, an analysis is performed only on the selected candidates. If a list contains only non-existing candidates, an endpoint will return an empty list."
      ]
    },
    {
      "cell_type": "code",
      "execution_count": null,
      "id": "mathematical-jacksonville",
      "metadata": {
        "id": "mathematical-jacksonville"
      },
      "outputs": [],
      "source": [
        "candidates_list = [0,1]\n",
        "\n",
        "sa = ov.sensitivity_analysis(candidates=[candidates_list])\n",
        "print(sa)"
      ]
    },
    {
      "cell_type": "markdown",
      "id": "unauthorized-calendar",
      "metadata": {
        "id": "unauthorized-calendar"
      },
      "source": [
        "### 7. Download Optimization Results in a CSV\n",
        "\n",
        "The **optimization_views/{optimization_view_uuid}/csv** endpoint can be used to download the results of an optimization run in a CSV file."
      ]
    },
    {
      "cell_type": "code",
      "execution_count": null,
      "id": "refined-fisher",
      "metadata": {
        "id": "refined-fisher"
      },
      "outputs": [],
      "source": [
        "# Download the CSV\n",
        "\n",
        "path = \"optimization_views/{}/csv\".format(ov.id)\n",
        "csv_content = request_raw(\"GET\", path).text\n",
        "csv_file_name = '{}_{}.csv'.format(ov.description, ov.id)\n",
        "\n",
        "with open(csv_file_name, 'w', newline='\\n') as output_file:\n",
        "    output_file.write(csv_content)"
      ]
    }
  ],
  "metadata": {
    "kernelspec": {
      "display_name": "Python 3 (ipykernel)",
      "language": "python",
      "name": "python3"
    },
    "language_info": {
      "codemirror_mode": {
        "name": "ipython",
        "version": 3
      },
      "file_extension": ".py",
      "mimetype": "text/x-python",
      "name": "python",
      "nbconvert_exporter": "python",
      "pygments_lexer": "ipython3",
      "version": "3.8.14"
    },
    "varInspector": {
      "cols": {
        "lenName": 16,
        "lenType": 16,
        "lenVar": 40
      },
      "kernels_config": {
        "python": {
          "delete_cmd_postfix": "",
          "delete_cmd_prefix": "del ",
          "library": "var_list.py",
          "varRefreshCmd": "print(var_dic_list())"
        },
        "r": {
          "delete_cmd_postfix": ") ",
          "delete_cmd_prefix": "rm(",
          "library": "var_list.r",
          "varRefreshCmd": "cat(var_dic_list()) "
        }
      },
      "types_to_exclude": [
        "module",
        "function",
        "builtin_function_or_method",
        "instance",
        "_Feature"
      ],
      "window_display": false
    },
    "colab": {
      "provenance": []
    }
  },
  "nbformat": 4,
  "nbformat_minor": 5
}