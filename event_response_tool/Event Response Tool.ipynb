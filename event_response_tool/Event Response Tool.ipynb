{
 "cells": [
  {
   "cell_type": "code",
   "execution_count": null,
   "id": "081dfe3f-7a23-4ec5-ac23-b8b8e1717589",
   "metadata": {},
   "outputs": [],
   "source": [
    "import event_response\n",
    "from getpass import getpass\n",
    "\n",
    "\n",
    "class EventResponseUI:\n",
    "    analyzere_url = \"\"\n",
    "    analyzere_username = \"\"\n",
    "    analyzere_password = getpass(prompt=\"Enter your Analyze Re Password: \")\n",
    "\n",
    "    # Path of the CSV containing the event weights\n",
    "    event_weights_csv = \"sample_data/test_event_weights.csv\"\n",
    "\n",
    "    # -------------------------------------------------------------\n",
    "\n",
    "    # OPTION 1\n",
    "    # MODIFY LAYERVIEW & LOSS_SET DATA\n",
    "    # Requires one of the two inputs below\n",
    "\n",
    "    # Path of the CSV containing the list of LayerViews to modify\n",
    "    layer_views_csv = \"sample_data/test_layer_views.csv\"\n",
    "\n",
    "    ### OR\n",
    "\n",
    "    # UUID of the PortfolioView containing a list of LayerViews to modify\n",
    "    portfolio_view_uuid = \"\"\n",
    "\n",
    "    # -------------------------------------------------------------\n",
    "\n",
    "    # OPTION 2\n",
    "    # CREATE OR UPDATE AN EVENT RESPONSE ANALYSIS PROFILE\n",
    "    total_number_of_events = 10\n",
    "    trial_count = 15\n",
    "\n",
    "    # To create an Event Response Analysis Profile, provide the following inputs\n",
    "    catalog_description = \"Sample Catalog\"\n",
    "    simulation_description = \"Sample Simulation\"\n",
    "    analysis_profile_description = \"Sample Analysis Profile\"\n",
    "\n",
    "    # To update an existing Event Response Analysis Profile, provide its UUID\n",
    "    old_analysis_profile_uuid = \"39813c34-e40a-470a-bafa-401382bad7c4\"\n",
    "\n",
    "\n",
    "event_response_ui = EventResponseUI()\n",
    "event_response.process(event_response_ui)"
   ]
  },
  {
   "cell_type": "code",
   "execution_count": null,
   "id": "saved-balance",
   "metadata": {},
   "outputs": [],
   "source": []
  }
 ],
 "metadata": {
  "kernelspec": {
   "display_name": "Python 3 (ipykernel)",
   "language": "python",
   "name": "python3"
  },
  "language_info": {
   "codemirror_mode": {
    "name": "ipython",
    "version": 3
   },
   "file_extension": ".py",
   "mimetype": "text/x-python",
   "name": "python",
   "nbconvert_exporter": "python",
   "pygments_lexer": "ipython3",
   "version": "3.8.14"
  },
  "varInspector": {
   "cols": {
    "lenName": 16,
    "lenType": 16,
    "lenVar": 40
   },
   "kernels_config": {
    "python": {
     "delete_cmd_postfix": "",
     "delete_cmd_prefix": "del ",
     "library": "var_list.py",
     "varRefreshCmd": "print(var_dic_list())"
    },
    "r": {
     "delete_cmd_postfix": ") ",
     "delete_cmd_prefix": "rm(",
     "library": "var_list.r",
     "varRefreshCmd": "cat(var_dic_list()) "
    }
   },
   "types_to_exclude": [
    "module",
    "function",
    "builtin_function_or_method",
    "instance",
    "_Feature"
   ],
   "window_display": false
  }
 },
 "nbformat": 4,
 "nbformat_minor": 5
}
